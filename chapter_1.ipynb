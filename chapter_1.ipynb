{
 "cells": [
  {
   "attachments": {},
   "cell_type": "markdown",
   "metadata": {},
   "source": [
    "# Introduction to Object-Oriented Concepts"
   ]
  },
  {
   "attachments": {},
   "cell_type": "markdown",
   "metadata": {},
   "source": [
    " **Object-oriented** languages are defined by the following:\n",
    " - encapsulation,\n",
    " - inheritance,\n",
    " - polymorphism, and\n",
    " - composition.\n",
    "\n",
    " People already think in objects. For example, a person is an object with attributes (like eye color, height, weight etc.) and behavior (like walking, talking, breathing etc.).\n",
    " => An **object** is an entity that contains both **data** and **behavior**.\n",
    " => The access to attributes and methods is controlled (restricted to that object = data hiding) with accessor and mutator methods (getters and setters).\n",
    " => Another object can access the data through a call to the original object's method.\n",
    " => Objects should be small and have a specific responsibility.\n",
    "\n",
    " **Procedural** programming (in contrast with object-oriented):\n",
    " - code is contained within functions and procedures that become black boxes (inputs in, outputs out)\n",
    " - data is placed into separate structures manipulated by these functions and procedures\n",
    " - attributes and behavior are separated\n",
    " - access to data is uncontrolled and unpredictable (multiple functions may have it)\n",
    " - testing and debugging are much more difficult"
   ]
  },
  {
   "attachments": {},
   "cell_type": "markdown",
   "metadata": {},
   "source": [
    "**Class** is a blueprint, a template, a cookie cutter for an object.\n",
    " - defines the attributes and behaviors that all objects created with this class posses\n",
    " - must be designed before creating an object\n",
    " - the data is represented by attributes that will store the state of each object instantiated from the class \n",
    " - methods implement the required behavior of a class that every object instantiated from this class includes"
   ]
  },
  {
   "cell_type": "code",
   "execution_count": null,
   "metadata": {},
   "outputs": [],
   "source": [
    "class Person:\n",
    "    # Attributes\n",
    "    def __init__(self, name=None, address=None):\n",
    "        self.name = name\n",
    "        self.address = address\n",
    "\n",
    "    # Methods\n",
    "    def get_name(self):\n",
    "        return self.name\n",
    "\n",
    "    def set_name(self, name):\n",
    "        self.name = name\n",
    "\n",
    "    def get_address(self):\n",
    "        return self.address\n",
    "\n",
    "    def set_address(self, address):\n",
    "        self.address = address"
   ]
  },
  {
   "attachments": {},
   "cell_type": "markdown",
   "metadata": {},
   "source": [
    "**Encapsulation** is defined by the fact that objects contain both the attributes and behaviors.\n",
    " - objects do not need to reveal all its attributes and behaviors, only interfaces (details should be hidden)\n",
    " - **class interface** is composed of public attributes and methods\n",
    "    - interface defines the fundamental means of communication between objects\n",
    "    - class design specifies the interfaces for its proper instantiation and operation\n",
    "    - should completely define how users of the class interact with it\n",
    "    - attributes only accessed through methods (data hiding)\n",
    " - **class implementation** is anything that is defined as private and inaccessible to the user"
   ]
  },
  {
   "cell_type": "code",
   "execution_count": null,
   "metadata": {},
   "outputs": [],
   "source": [
    "class IntSquare:\n",
    "    # Private attribute\n",
    "    def __init__(self):\n",
    "        self.square_value = None\n",
    "\n",
    "    # Public interface\n",
    "    def get_square(self, value):\n",
    "        self.square_value = self.calculate_square(value)\n",
    "        return self.square_value\n",
    "\n",
    "    # Private implementation\n",
    "    def calculate_square(self, value):\n",
    "        return value * value"
   ]
  }
 ],
 "metadata": {
  "kernelspec": {
   "display_name": "base",
   "language": "python",
   "name": "python3"
  },
  "language_info": {
   "name": "python",
   "version": "3.9.15"
  },
  "orig_nbformat": 4
 },
 "nbformat": 4,
 "nbformat_minor": 2
}
